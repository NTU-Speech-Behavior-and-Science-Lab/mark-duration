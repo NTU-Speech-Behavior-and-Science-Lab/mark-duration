{
 "cells": [
  {
   "cell_type": "code",
   "execution_count": 1,
   "id": "4b8028a7",
   "metadata": {
    "scrolled": true
   },
   "outputs": [],
   "source": [
    "import pandas as pd\n",
    "import tgt\n",
    "import os\n",
    "\n",
    "os.chdir(\"/Users/theodorelai/Documents/School/10_碩一下/00_Project/M mode\")"
   ]
  },
  {
   "cell_type": "code",
   "execution_count": 2,
   "id": "81064416",
   "metadata": {},
   "outputs": [],
   "source": [
    "def textgrid_to_csv(tgPath, # input TextGrid path\n",
    "                    csvPath, # output .csv path\n",
    "                    tgTier, # input TextGrid tier (please transform to zero-indexing)\n",
    "                    point = None, # if it is an interval tier, please specify the point to obtain the time.\n",
    "                    sort = False # If you want to sort the label by adding token numbers, set 'sort = True'.\n",
    "                   ):\n",
    "    try:\n",
    "        tgd = tgt.read_textgrid(tgPath, encoding='utf-8', include_empty_intervals=True)\n",
    "    except UnicodeDecodeError:\n",
    "        tgd = tgt.read_textgrid(tgPath, encoding='utf-16', include_empty_intervals=True)\n",
    "    time = []\n",
    "    label = []\n",
    "    annotation = []\n",
    "    if type(tgd.tiers[tgTier]) == tgt.core.PointTier:\n",
    "        for i in tgd.tiers[tgTier]:\n",
    "            time.append(i.time)\n",
    "            if sort:\n",
    "                annotation.append(i.text)\n",
    "                count = annotation.count(i.text)\n",
    "                if count < 10:\n",
    "                    label.append(i.text + '_0' + str(count))\n",
    "                else:\n",
    "                    label.append(i.text + '_' + str(count))\n",
    "            else:\n",
    "                label.append(i.text)\n",
    "    elif type(tgd.tiers[tgTier]) == tgt.core.IntervalTier: \n",
    "        if point == None:\n",
    "            raise ValueError(\"Please specify 'point'\")\n",
    "        if point < -0.5 or point > 1.5:\n",
    "            raise ValueError(\"'point' should fall between -0.5 and 1.5\")\n",
    "        for i in tgd.tiers[tgTier]:\n",
    "            if i.text not in ['', 'xxx']:\n",
    "                dur = i.end_time - i.start_time\n",
    "                time.append(i.start_time + dur*point)\n",
    "                if sort:\n",
    "                    annotation.append(i.text)\n",
    "                    count = annotation.count(i.text)\n",
    "                    if count < 10:\n",
    "                        label.append(i.text + '_0' + str(count))\n",
    "                    else:\n",
    "                        label.append(i.text + '_' + str(count))\n",
    "                else:\n",
    "                    label.append(i.text)\n",
    "    df = pd.DataFrame()\n",
    "    df.insert(loc = 0, column = 'Time', value = time)\n",
    "    df.insert(loc = 1, column = 'Label', value = label)\n",
    "    \n",
    "    df.to_csv(csvPath, index=False)\n",
    "    \n",
    "#     return df"
   ]
  },
  {
   "cell_type": "code",
   "execution_count": 3,
   "id": "2a519df9",
   "metadata": {},
   "outputs": [],
   "source": [
    "textgrid_to_csv('Teddy_test_t_aligned.TextGrid', 'Teddy_test_t_aligned.csv', tgTier = 1, point = 1, sort = True)"
   ]
  }
 ],
 "metadata": {
  "kernelspec": {
   "display_name": "Python 3",
   "language": "python",
   "name": "python3"
  },
  "language_info": {
   "codemirror_mode": {
    "name": "ipython",
    "version": 3
   },
   "file_extension": ".py",
   "mimetype": "text/x-python",
   "name": "python",
   "nbconvert_exporter": "python",
   "pygments_lexer": "ipython3",
   "version": "3.8.8"
  }
 },
 "nbformat": 4,
 "nbformat_minor": 5
}
